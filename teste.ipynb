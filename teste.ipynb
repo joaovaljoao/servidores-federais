{
 "cells": [
  {
   "cell_type": "code",
   "execution_count": 3,
   "metadata": {},
   "outputs": [],
   "source": [
    "import csv"
   ]
  },
  {
   "cell_type": "code",
   "execution_count": 11,
   "metadata": {},
   "outputs": [],
   "source": [
    "def filter_csv(file, chunk_size=1000):\n",
    "    filtered_data = []\n",
    "    with open(file, 'r', encoding='latin1') as f:\n",
    "        reader = csv.reader(f, delimiter=';')\n",
    "        header = next(reader)\n",
    "        filtered_data.append(header)\n",
    "        chunk = []\n",
    "        unique_ids = set()\n",
    "        for i, row in enumerate(reader):\n",
    "            if row[17] == '26447' or row[23] == '26447' or row[15] == '26232000000732':\n",
    "                id_servidor_portal = row[0]\n",
    "                if id_servidor_portal not in unique_ids:\n",
    "                    chunk.append(row)\n",
    "                    unique_ids.add(id_servidor_portal)\n",
    "            if (i + 1) % chunk_size == 0:\n",
    "                filtered_data.extend(chunk)\n",
    "                chunk = []\n",
    "        filtered_data.extend(chunk)\n",
    "    \n",
    "    new_file = file.replace('.csv', '_ufob.csv')\n",
    "    with open(new_file, 'w', newline='') as f:\n",
    "        writer = csv.writer(f, delimiter=';')\n",
    "        writer.writerows(filtered_data)\n",
    "    \n",
    "    return new_file.split('/')[-1]\n",
    "\n"
   ]
  },
  {
   "cell_type": "code",
   "execution_count": 13,
   "metadata": {},
   "outputs": [
    {
     "data": {
      "text/plain": [
       "'202211_Cadastro_ufob.csv'"
      ]
     },
     "execution_count": 13,
     "metadata": {},
     "output_type": "execute_result"
    }
   ],
   "source": [
    "filter_csv('output/202211_Cadastro.csv')\t"
   ]
  },
  {
   "cell_type": "code",
   "execution_count": null,
   "metadata": {},
   "outputs": [],
   "source": []
  }
 ],
 "metadata": {
  "kernelspec": {
   "display_name": ".venv",
   "language": "python",
   "name": "python3"
  },
  "language_info": {
   "codemirror_mode": {
    "name": "ipython",
    "version": 3
   },
   "file_extension": ".py",
   "mimetype": "text/x-python",
   "name": "python",
   "nbconvert_exporter": "python",
   "pygments_lexer": "ipython3",
   "version": "3.10.6"
  },
  "orig_nbformat": 4,
  "vscode": {
   "interpreter": {
    "hash": "b7bcb130f5da7c597904b6f739ec7c20e869362eec2ea5110c25c3d58af1f3ca"
   }
  }
 },
 "nbformat": 4,
 "nbformat_minor": 2
}
